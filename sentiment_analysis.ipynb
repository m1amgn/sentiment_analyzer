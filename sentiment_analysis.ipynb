{
 "cells": [
  {
   "cell_type": "code",
   "execution_count": null,
   "id": "1aee00a3",
   "metadata": {},
   "outputs": [],
   "source": [
    "import nltk\n",
    "from nltk.corpus import movie_reviews\n",
    "from nltk.tokenize import word_tokenize\n",
    "from nltk.corpus import stopwords\n",
    "from nltk.stem import WordNetLemmatizer\n",
    "from sklearn.feature_extraction.text import TfidfVectorizer\n",
    "from sklearn.model_selection import train_test_split\n",
    "from sklearn.svm import SVC\n",
    "from sklearn.metrics import accuracy_score"
   ]
  },
  {
   "cell_type": "code",
   "execution_count": null,
   "id": "61f6c209",
   "metadata": {},
   "outputs": [],
   "source": [
    "# Download necessary NLTK resources\n",
    "nltk.download('movie_reviews')\n",
    "nltk.download('punkt')\n",
    "nltk.download('stopwords')\n",
    "nltk.download('wordnet')\n",
    "nltk.download('omw-1.4')"
   ]
  },
  {
   "cell_type": "code",
   "execution_count": null,
   "id": "582b63e8",
   "metadata": {},
   "outputs": [],
   "source": [
    "# Load movie reviews dataset\n",
    "reviews = [(movie_reviews.raw(fileid), category)\n",
    "           for category in movie_reviews.categories()\n",
    "           for fileid in movie_reviews.fileids(category)]"
   ]
  },
  {
   "cell_type": "code",
   "execution_count": null,
   "id": "fce34d24",
   "metadata": {},
   "outputs": [],
   "source": [
    "# Preprocess the reviews\n",
    "lemmatizer = WordNetLemmatizer()\n",
    "stop_words = set(stopwords.words('english'))\n",
    "def preprocess_text(review):\n",
    "    tokens = word_tokenize(review.lower())\n",
    "    tokens = [lemmatizer.lemmatize(token) for token in tokens if token.isalpha()]\n",
    "    tokens = [token for token in tokens if token not in stop_words]\n",
    "    return ' '.join(tokens)\n",
    "X = [preprocess_text(review) for review, _ in reviews]\n",
    "y = [category for _, category in reviews]"
   ]
  },
  {
   "cell_type": "code",
   "execution_count": null,
   "id": "852293ac",
   "metadata": {},
   "outputs": [],
   "source": [
    "# Split the dataset into training and testing sets\n",
    "X_train, X_test, y_train, y_test = train_test_split(X, y, test_size=0.2, random_state=42)"
   ]
  },
  {
   "cell_type": "code",
   "execution_count": null,
   "id": "05aa5e1a",
   "metadata": {},
   "outputs": [],
   "source": [
    "# Create TF-IDF vectors\n",
    "vectorizer = TfidfVectorizer()\n",
    "X_train_tfidf = vectorizer.fit_transform(X_train)\n",
    "X_test_tfidf = vectorizer.transform(X_test)"
   ]
  },
  {
   "cell_type": "code",
   "execution_count": null,
   "id": "a989b2c9",
   "metadata": {},
   "outputs": [],
   "source": [
    "# Train an SVM classifier\n",
    "classifier = SVC()\n",
    "classifier.fit(X_train_tfidf, y_train)"
   ]
  },
  {
   "cell_type": "code",
   "execution_count": null,
   "id": "7add2080",
   "metadata": {},
   "outputs": [],
   "source": [
    "# Make predictions on the test set\n",
    "y_pred = classifier.predict(X_test_tfidf)"
   ]
  },
  {
   "cell_type": "code",
   "execution_count": null,
   "id": "e74d57e2",
   "metadata": {},
   "outputs": [],
   "source": [
    "# Calculate accuracy\n",
    "accuracy = accuracy_score(y_test, y_pred)\n",
    "print(f\"Accuracy: {accuracy}\")"
   ]
  },
  {
   "cell_type": "code",
   "execution_count": null,
   "id": "8a2c7cde",
   "metadata": {},
   "outputs": [],
   "source": [
    "# Example of a movie review to analyze\n",
    "review = \"This movie was incredible. The acting was amazing, and the special effects were out of this world!\"\n",
    "\n",
    "# Preprocess the review\n",
    "processed_review = preprocess_text(review)\n",
    "\n",
    "# Transform the review into a TF-IDF vector\n",
    "review_vector = vectorizer.transform([processed_review])\n",
    "\n",
    "# Make a prediction using the SVM model\n",
    "prediction = classifier.predict(review_vector)\n",
    "\n",
    "# Output the prediction\n",
    "if prediction[0] == 'pos':\n",
    "    print(\"Positive review!\")\n",
    "else:\n",
    "    print(\"Negative review.\")"
   ]
  },
  {
   "cell_type": "code",
   "execution_count": null,
   "id": "5a87fda9",
   "metadata": {},
   "outputs": [],
   "source": [
    "# import nltk\n",
    "# from nltk.sentiment.vader import SentimentIntensityAnalyzer\n",
    "\n",
    "# nltk.download('vader_lexicon')\n",
    "\n",
    "# sid = SentimentIntensityAnalyzer()\n",
    "\n",
    "# post = \"I am feeling great today!\"\n",
    "\n",
    "# sentiment_scores = sid.polarity_scores(post)\n",
    "\n",
    "# print(sentiment_scores)"
   ]
  }
 ],
 "metadata": {
  "kernelspec": {
   "display_name": "Python 3 (ipykernel)",
   "language": "python",
   "name": "python3"
  },
  "language_info": {
   "codemirror_mode": {
    "name": "ipython",
    "version": 3
   },
   "file_extension": ".py",
   "mimetype": "text/x-python",
   "name": "python",
   "nbconvert_exporter": "python",
   "pygments_lexer": "ipython3",
   "version": "3.10.11"
  }
 },
 "nbformat": 4,
 "nbformat_minor": 5
}
